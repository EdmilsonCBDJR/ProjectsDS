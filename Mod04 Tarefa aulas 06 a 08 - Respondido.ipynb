{
 "cells": [
  {
   "cell_type": "markdown",
   "metadata": {},
   "source": [
    "# Tarefa 03\n",
    "\n",
    "- Leia os enunciados com atenção\n",
    "- Saiba que pode haver mais de uma resposta correta\n",
    "- Insira novas células de código sempre que achar necessário\n",
    "- Em caso de dúvidas, procure os Tutores\n",
    "- Divirta-se :)"
   ]
  },
  {
   "cell_type": "code",
   "execution_count": 12,
   "metadata": {},
   "outputs": [],
   "source": [
    "import pandas as pd\n",
    "import requests"
   ]
  },
  {
   "cell_type": "markdown",
   "metadata": {},
   "source": [
    "####  1) Lendo de APIs\n",
    "Vimos em aula como carregar dados públicos do governo através de um API (*Application Programming Interface*). No exemplo de aula, baixamos os dados de pedidos de verificação de limites (PVL) realizados por estados, e selecionamos apenas aqueles referentes ao estado de São Paulo.\n",
    "\n",
    "1. Repita os mesmos passos feitos em aula, mas selecione os PVLs realizados por municípios no estado do Rio de Janeiro.\n",
    "2. Quais são os três *status* das solicitações mais frequentes na base? Quais são suas frequências?\n",
    "3. Construa uma nova variável que contenha o ano do **status**. Observe que ```data_status``` vem como tipo *object* no **DataFrame**. Dica: você pode usar o método ```.str``` para transformar o tipo da variável em string, em seguida um método como [**slice()**](https://pandas.pydata.org/docs/reference/api/pandas.Series.str.slice.html) ou [**split()**](https://pandas.pydata.org/pandas-docs/stable/reference/api/pandas.Series.str.split.html).\n",
    "4. Indique a frequência de cada ano do campo construído no item (3)."
   ]
  },
  {
   "cell_type": "code",
   "execution_count": 17,
   "metadata": {},
   "outputs": [],
   "source": [
    "# 1) Seu código aqui\n",
    "url = \"https://apidatalake.tesouro.gov.br/ords/sadipem/tt/pvl?uf=RJ&tipo_interessado=Munic%C3%ADpio\"\n",
    "\n",
    "r = requests.get(url)\n",
    "\n",
    "data_json = r.json()\n",
    "\n",
    "df = pd.DataFrame(data_json['items'])"
   ]
  },
  {
   "cell_type": "code",
   "execution_count": 18,
   "metadata": {},
   "outputs": [
    {
     "data": {
      "text/plain": [
       "status\n",
       "Deferido                                                 105\n",
       "Arquivado                                                 53\n",
       "Regularizado                                              26\n",
       "Arquivado por decurso de prazo                            24\n",
       "Deferido (PVL-IF)                                         24\n",
       "Encaminhado à PGFN com manifestação técnica favorável     14\n",
       "Arquivado a pedido                                         7\n",
       "Em retificação pelo interessado                            3\n",
       "Arquivado a pedido (PVL-IF)                                1\n",
       "Arquivado pela STN                                         1\n",
       "Em análise                                                 1\n",
       "Name: count, dtype: int64"
      ]
     },
     "execution_count": 18,
     "metadata": {},
     "output_type": "execute_result"
    }
   ],
   "source": [
    "# 2) Seu código aqui\n",
    "df['status'].value_counts()\n",
    "\n",
    "#Deferido                                                 105\n",
    "#Arquivado                                                 53\n",
    "#Regularizado                                              26"
   ]
  },
  {
   "cell_type": "code",
   "execution_count": 30,
   "metadata": {},
   "outputs": [],
   "source": [
    "# 3) Seu código aqui\n",
    "df['ano_status'] = df['data_status'].str.slice(6, 11)\n"
   ]
  },
  {
   "cell_type": "code",
   "execution_count": 29,
   "metadata": {},
   "outputs": [
    {
     "data": {
      "text/plain": [
       "ano_status\n",
       "2008    37\n",
       "2007    29\n",
       "2023    29\n",
       "2014    20\n",
       "2010    19\n",
       "2019    16\n",
       "2020    15\n",
       "2013    15\n",
       "2012    13\n",
       "2022    11\n",
       "2011    10\n",
       "2009     9\n",
       "2015     8\n",
       "2017     5\n",
       "2021     5\n",
       "2002     4\n",
       "2016     4\n",
       "2018     4\n",
       "2006     4\n",
       "2003     1\n",
       "2004     1\n",
       "Name: count, dtype: int64"
      ]
     },
     "execution_count": 29,
     "metadata": {},
     "output_type": "execute_result"
    }
   ],
   "source": [
    "# 4) Seu código aqui\n",
    "df['ano_status'].value_counts()\n"
   ]
  },
  {
   "cell_type": "markdown",
   "metadata": {},
   "source": [
    "####  2) Melhorando a interação com o API\n",
    "Observe dois URLs de consultas diferentes, por exemplo o URL utilizado em aula, e o URL feito no exercício anterior. Compare-os e observe as diferenças.\n",
    "\n",
    "1. Faça uma função em Python que recebe como argumento o UF da consulta e o tipo de interessado (```'Estado'```ou ```Município```), e que devolve os dados da consulta no formato *DataFrame*.\n",
    "2. Quantas solicitações para o Estado podem ser consultadas para Minas Gerais com *status* em 'Arquivado por decurso de prazo' estão registradas?\n",
    "3. Qual é o município da Bahia com mais solicitações deferidas?\n",
    "4. Salve um arquivo .csv com os dados de solicitações da Bahia, com interessado = 'Estado'"
   ]
  },
  {
   "cell_type": "code",
   "execution_count": 43,
   "metadata": {},
   "outputs": [],
   "source": [
    "#1) Seu código aqui\n",
    "import pandas as pd\n",
    "import requests\n",
    "\n",
    "#Criando chaves para automatizar a consulta\n",
    "def link_api(estado, interesse):\n",
    "    \n",
    "    interesse_municipio ='Munic%C3%ADpio'\n",
    "    interesse_estado ='Estado'\n",
    "    base = 'https://apidatalake.tesouro.gov.br/ords/sadipem/tt/pvl?uf=colocaruf&tipo_interessado='\n",
    "\n",
    "    #montando a URL\n",
    "    novo_link = base.replace('colocaruf', estado)\n",
    "    \n",
    "    if interesse == \"M\":\n",
    "        novo_link_com_interesse = novo_link + interesse_municipio\n",
    "    elif interesse == \"E\":\n",
    "        novo_link_com_interesse = novo_link + interesse_estado\n",
    "        \n",
    "    r = requests.get(novo_link_com_interesse)\n",
    "\n",
    "    data_json = r.json()\n",
    "\n",
    "    df = pd.DataFrame(data_json['items'])\n",
    "    \n",
    "    return df\n",
    "\n",
    "\n",
    "#print(link_api('MG','M'))"
   ]
  },
  {
   "cell_type": "code",
   "execution_count": 48,
   "metadata": {},
   "outputs": [
    {
     "data": {
      "text/plain": [
       "status\n",
       "Encaminhado à PGFN com manifestação técnica favorável    20\n",
       "Deferido                                                  7\n",
       "Arquivado a pedido                                        5\n",
       "Arquivado                                                 3\n",
       "Arquivado pela STN                                        3\n",
       "Arquivado por decurso de prazo                            1\n",
       "Indeferido                                                1\n",
       "Name: count, dtype: int64"
      ]
     },
     "execution_count": 48,
     "metadata": {},
     "output_type": "execute_result"
    }
   ],
   "source": [
    "# 2) Seu código aqui\n",
    "nova_base_mg = pd.DataFrame(link_api('MG','E'))\n",
    "\n",
    "nova_base_mg['status'].value_counts()\n",
    "#Arquivado por decurso de prazo                            1"
   ]
  },
  {
   "cell_type": "code",
   "execution_count": 62,
   "metadata": {},
   "outputs": [
    {
     "data": {
      "text/plain": [
       "interessado\n",
       "Luís Eduardo Magalhães    16\n",
       "Vitória da Conquista      12\n",
       "Barreiras                 10\n",
       "Camaçari                  10\n",
       "Lauro de Freitas          10\n",
       "                          ..\n",
       "Malhada                    1\n",
       "Sobradinho                 1\n",
       "Cafarnaum                  1\n",
       "Itapicuru                  1\n",
       "Itagibá                    1\n",
       "Name: count, Length: 185, dtype: int64"
      ]
     },
     "execution_count": 62,
     "metadata": {},
     "output_type": "execute_result"
    }
   ],
   "source": [
    "# 3) Seu código aqui\n",
    "nova_base_ba = pd.DataFrame(link_api('BA','M'))\n",
    "\n",
    "df_deferido = nova_base_ba[nova_base_ba['status'] == 'Deferido']\n",
    "\n",
    "df_deferido['interessado'].value_counts()\n",
    "#contagem_por_municipio = df_deferido.groupby('interessado').size().reset_index(name='contagem')"
   ]
  },
  {
   "cell_type": "code",
   "execution_count": 63,
   "metadata": {},
   "outputs": [],
   "source": [
    "# 4) Seu código aqui\n",
    "nova_base_ba_e = pd.DataFrame(link_api('BA','E'))\n",
    "\n",
    "nova_base_ba_e.to_csv('base_bahia_estado.csv',index=False)\n"
   ]
  }
 ],
 "metadata": {
  "kernelspec": {
   "display_name": "Python 3 (ipykernel)",
   "language": "python",
   "name": "python3"
  },
  "language_info": {
   "codemirror_mode": {
    "name": "ipython",
    "version": 3
   },
   "file_extension": ".py",
   "mimetype": "text/x-python",
   "name": "python",
   "nbconvert_exporter": "python",
   "pygments_lexer": "ipython3",
   "version": "3.11.5"
  }
 },
 "nbformat": 4,
 "nbformat_minor": 4
}
